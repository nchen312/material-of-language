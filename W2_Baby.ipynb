{
 "cells": [
  {
   "cell_type": "code",
   "execution_count": 5,
   "metadata": {},
   "outputs": [],
   "source": [
    "text = open(\"baby one more time.txt\").read()"
   ]
  },
  {
   "cell_type": "code",
   "execution_count": 6,
   "metadata": {},
   "outputs": [
    {
     "name": "stdout",
     "output_type": "stream",
     "text": [
      "Oh baby, baby\n",
      "Oh baby, baby\n",
      "Oh baby, baby, how was I supposed to know\n",
      "That something wasn't right here?\n",
      "Oh baby, baby, I shouldn't have let you go\n",
      "And now you're out of sight, yeah\n",
      "Show me how want it to be\n",
      "Tell me, baby, 'cause I need to know now, oh because\n",
      "My loneliness is killing me (and I)\n",
      "I must confess I still believe (still believe)\n",
      "When I'm not with you I lose my mind\n",
      "Give me a sign\n",
      "Hit me, baby, one more time\n",
      "Oh baby, baby\n",
      "The reason I breathe is you\n",
      "Boy, you got me blinded\n",
      "Oh, pretty baby\n",
      "There's nothing that I wouldn't do\n",
      "It's not the way I planned it\n",
      "Show me how you want it to be\n",
      "Tell me, baby, 'cause I need to know now, oh because\n",
      "My loneliness is killing me (and I)\n",
      "I must confess I still believe (still believe)\n",
      "When I'm not with you I lose my mind\n",
      "Give me a sign\n",
      "Hit me, baby, one more time\n",
      "Oh baby, baby (oh oh)\n",
      "Oh baby, baby (yeah)\n",
      "Oh baby, baby, how was I supposed to know?\n",
      "Oh pretty baby, I shouldn't have let you go\n",
      "I must confess, that my loneliness is killing me now\n",
      "Don't you know I still believe\n",
      "That you will be here\n",
      "And give me a sign\n",
      "Hit me, baby, one more time\n",
      "My loneliness is killing me (and I)\n",
      "I must confess I still believe (still believe)\n",
      "When I'm not with you I lose my mind\n",
      "Give me a sign\n",
      "Hit me, baby, one more time\n",
      "I must confess, that my loneliness is killing me now\n",
      "Don't you know I still believe\n",
      "That you will be here\n",
      "And give me a sign\n",
      "Hit me, baby, one more time\n"
     ]
    }
   ],
   "source": [
    "print(text)"
   ]
  },
  {
   "cell_type": "code",
   "execution_count": 7,
   "metadata": {},
   "outputs": [
    {
     "data": {
      "text/plain": [
       "\"Oh baby, baby\\nOh baby, baby\\nOh baby, baby, how was I supposed to know\\nThat something wasn't right here?\\nOh baby, baby, I shouldn't have let you go\\nAnd now you're out of sight, yeah\\nShow me how want it to be\\nTell me, baby, 'cause I need to know now, oh because\\nMy loneliness is killing me (and I)\\nI must confess I still believe (still believe)\\nWhen I'm not with you I lose my mind\\nGive me a sign\\nHit me, baby, one more time\\nOh baby, baby\\nThe reason I breathe is you\\nBoy, you got me blinded\\nOh, pretty baby\\nThere's nothing that I wouldn't do\\nIt's not the way I planned it\\nShow me how you want it to be\\nTell me, baby, 'cause I need to know now, oh because\\nMy loneliness is killing me (and I)\\nI must confess I still believe (still believe)\\nWhen I'm not with you I lose my mind\\nGive me a sign\\nHit me, baby, one more time\\nOh baby, baby (oh oh)\\nOh baby, baby (yeah)\\nOh baby, baby, how was I supposed to know?\\nOh pretty baby, I shouldn't have let you go\\nI must confess, that my loneliness is killing me now\\nDon't you know I still believe\\nThat you will be here\\nAnd give me a sign\\nHit me, baby, one more time\\nMy loneliness is killing me (and I)\\nI must confess I still believe (still believe)\\nWhen I'm not with you I lose my mind\\nGive me a sign\\nHit me, baby, one more time\\nI must confess, that my loneliness is killing me now\\nDon't you know I still believe\\nThat you will be here\\nAnd give me a sign\\nHit me, baby, one more time\""
      ]
     },
     "execution_count": 7,
     "metadata": {},
     "output_type": "execute_result"
    }
   ],
   "source": [
    "''.join([chr(ord(c)) for c in text])"
   ]
  },
  {
   "cell_type": "code",
   "execution_count": 8,
   "metadata": {},
   "outputs": [
    {
     "data": {
      "text/plain": [
       "'Pi!cbcz-!cbcz\\x0bPi!cbcz-!cbcz\\x0bPi!cbcz-!cbcz-!ipx!xbt!J!tvqqptfe!up!lopx\\x0bUibu!tpnfuijoh!xbto(u!sjhiu!ifsf@\\x0bPi!cbcz-!cbcz-!J!tipvmeo(u!ibwf!mfu!zpv!hp\\x0bBoe!opx!zpv(sf!pvu!pg!tjhiu-!zfbi\\x0bTipx!nf!ipx!xbou!ju!up!cf\\x0bUfmm!nf-!cbcz-!(dbvtf!J!offe!up!lopx!opx-!pi!cfdbvtf\\x0bNz!mpofmjoftt!jt!ljmmjoh!nf!)boe!J*\\x0bJ!nvtu!dpogftt!J!tujmm!cfmjfwf!)tujmm!cfmjfwf*\\x0bXifo!J(n!opu!xjui!zpv!J!mptf!nz!njoe\\x0bHjwf!nf!b!tjho\\x0bIju!nf-!cbcz-!pof!npsf!ujnf\\x0bPi!cbcz-!cbcz\\x0bUif!sfbtpo!J!csfbuif!jt!zpv\\x0bCpz-!zpv!hpu!nf!cmjoefe\\x0bPi-!qsfuuz!cbcz\\x0bUifsf(t!opuijoh!uibu!J!xpvmeo(u!ep\\x0bJu(t!opu!uif!xbz!J!qmboofe!ju\\x0bTipx!nf!ipx!zpv!xbou!ju!up!cf\\x0bUfmm!nf-!cbcz-!(dbvtf!J!offe!up!lopx!opx-!pi!cfdbvtf\\x0bNz!mpofmjoftt!jt!ljmmjoh!nf!)boe!J*\\x0bJ!nvtu!dpogftt!J!tujmm!cfmjfwf!)tujmm!cfmjfwf*\\x0bXifo!J(n!opu!xjui!zpv!J!mptf!nz!njoe\\x0bHjwf!nf!b!tjho\\x0bIju!nf-!cbcz-!pof!npsf!ujnf\\x0bPi!cbcz-!cbcz!)pi!pi*\\x0bPi!cbcz-!cbcz!)zfbi*\\x0bPi!cbcz-!cbcz-!ipx!xbt!J!tvqqptfe!up!lopx@\\x0bPi!qsfuuz!cbcz-!J!tipvmeo(u!ibwf!mfu!zpv!hp\\x0bJ!nvtu!dpogftt-!uibu!nz!mpofmjoftt!jt!ljmmjoh!nf!opx\\x0bEpo(u!zpv!lopx!J!tujmm!cfmjfwf\\x0bUibu!zpv!xjmm!cf!ifsf\\x0bBoe!hjwf!nf!b!tjho\\x0bIju!nf-!cbcz-!pof!npsf!ujnf\\x0bNz!mpofmjoftt!jt!ljmmjoh!nf!)boe!J*\\x0bJ!nvtu!dpogftt!J!tujmm!cfmjfwf!)tujmm!cfmjfwf*\\x0bXifo!J(n!opu!xjui!zpv!J!mptf!nz!njoe\\x0bHjwf!nf!b!tjho\\x0bIju!nf-!cbcz-!pof!npsf!ujnf\\x0bJ!nvtu!dpogftt-!uibu!nz!mpofmjoftt!jt!ljmmjoh!nf!opx\\x0bEpo(u!zpv!lopx!J!tujmm!cfmjfwf\\x0bUibu!zpv!xjmm!cf!ifsf\\x0bBoe!hjwf!nf!b!tjho\\x0bIju!nf-!cbcz-!pof!npsf!ujnf'"
      ]
     },
     "execution_count": 8,
     "metadata": {},
     "output_type": "execute_result"
    }
   ],
   "source": [
    "''.join([chr(ord(c)+1) for c in text])"
   ]
  },
  {
   "cell_type": "code",
   "execution_count": 9,
   "metadata": {},
   "outputs": [
    {
     "data": {
      "text/plain": [
       "'\\x9eÐ@ÄÂÄòX@ÄÂÄò\\x14\\x9eÐ@ÄÂÄòX@ÄÂÄò\\x14\\x9eÐ@ÄÂÄòX@ÄÂÄòX@ÐÞî@îÂæ@\\x92@æêààÞæÊÈ@èÞ@ÖÜÞî\\x14¨ÐÂè@æÞÚÊèÐÒÜÎ@îÂæÜNè@äÒÎÐè@ÐÊäÊ~\\x14\\x9eÐ@ÄÂÄòX@ÄÂÄòX@\\x92@æÐÞêØÈÜNè@ÐÂìÊ@ØÊè@òÞê@ÎÞ\\x14\\x82ÜÈ@ÜÞî@òÞêNäÊ@Þêè@ÞÌ@æÒÎÐèX@òÊÂÐ\\x14¦ÐÞî@ÚÊ@ÐÞî@îÂÜè@Òè@èÞ@ÄÊ\\x14¨ÊØØ@ÚÊX@ÄÂÄòX@NÆÂêæÊ@\\x92@ÜÊÊÈ@èÞ@ÖÜÞî@ÜÞîX@ÞÐ@ÄÊÆÂêæÊ\\x14\\x9aò@ØÞÜÊØÒÜÊææ@Òæ@ÖÒØØÒÜÎ@ÚÊ@PÂÜÈ@\\x92R\\x14\\x92@Úêæè@ÆÞÜÌÊææ@\\x92@æèÒØØ@ÄÊØÒÊìÊ@PæèÒØØ@ÄÊØÒÊìÊR\\x14®ÐÊÜ@\\x92NÚ@ÜÞè@îÒèÐ@òÞê@\\x92@ØÞæÊ@Úò@ÚÒÜÈ\\x14\\x8eÒìÊ@ÚÊ@Â@æÒÎÜ\\x14\\x90Òè@ÚÊX@ÄÂÄòX@ÞÜÊ@ÚÞäÊ@èÒÚÊ\\x14\\x9eÐ@ÄÂÄòX@ÄÂÄò\\x14¨ÐÊ@äÊÂæÞÜ@\\x92@ÄäÊÂèÐÊ@Òæ@òÞê\\x14\\x84ÞòX@òÞê@ÎÞè@ÚÊ@ÄØÒÜÈÊÈ\\x14\\x9eÐX@àäÊèèò@ÄÂÄò\\x14¨ÐÊäÊNæ@ÜÞèÐÒÜÎ@èÐÂè@\\x92@îÞêØÈÜNè@ÈÞ\\x14\\x92èNæ@ÜÞè@èÐÊ@îÂò@\\x92@àØÂÜÜÊÈ@Òè\\x14¦ÐÞî@ÚÊ@ÐÞî@òÞê@îÂÜè@Òè@èÞ@ÄÊ\\x14¨ÊØØ@ÚÊX@ÄÂÄòX@NÆÂêæÊ@\\x92@ÜÊÊÈ@èÞ@ÖÜÞî@ÜÞîX@ÞÐ@ÄÊÆÂêæÊ\\x14\\x9aò@ØÞÜÊØÒÜÊææ@Òæ@ÖÒØØÒÜÎ@ÚÊ@PÂÜÈ@\\x92R\\x14\\x92@Úêæè@ÆÞÜÌÊææ@\\x92@æèÒØØ@ÄÊØÒÊìÊ@PæèÒØØ@ÄÊØÒÊìÊR\\x14®ÐÊÜ@\\x92NÚ@ÜÞè@îÒèÐ@òÞê@\\x92@ØÞæÊ@Úò@ÚÒÜÈ\\x14\\x8eÒìÊ@ÚÊ@Â@æÒÎÜ\\x14\\x90Òè@ÚÊX@ÄÂÄòX@ÞÜÊ@ÚÞäÊ@èÒÚÊ\\x14\\x9eÐ@ÄÂÄòX@ÄÂÄò@PÞÐ@ÞÐR\\x14\\x9eÐ@ÄÂÄòX@ÄÂÄò@PòÊÂÐR\\x14\\x9eÐ@ÄÂÄòX@ÄÂÄòX@ÐÞî@îÂæ@\\x92@æêààÞæÊÈ@èÞ@ÖÜÞî~\\x14\\x9eÐ@àäÊèèò@ÄÂÄòX@\\x92@æÐÞêØÈÜNè@ÐÂìÊ@ØÊè@òÞê@ÎÞ\\x14\\x92@Úêæè@ÆÞÜÌÊææX@èÐÂè@Úò@ØÞÜÊØÒÜÊææ@Òæ@ÖÒØØÒÜÎ@ÚÊ@ÜÞî\\x14\\x88ÞÜNè@òÞê@ÖÜÞî@\\x92@æèÒØØ@ÄÊØÒÊìÊ\\x14¨ÐÂè@òÞê@îÒØØ@ÄÊ@ÐÊäÊ\\x14\\x82ÜÈ@ÎÒìÊ@ÚÊ@Â@æÒÎÜ\\x14\\x90Òè@ÚÊX@ÄÂÄòX@ÞÜÊ@ÚÞäÊ@èÒÚÊ\\x14\\x9aò@ØÞÜÊØÒÜÊææ@Òæ@ÖÒØØÒÜÎ@ÚÊ@PÂÜÈ@\\x92R\\x14\\x92@Úêæè@ÆÞÜÌÊææ@\\x92@æèÒØØ@ÄÊØÒÊìÊ@PæèÒØØ@ÄÊØÒÊìÊR\\x14®ÐÊÜ@\\x92NÚ@ÜÞè@îÒèÐ@òÞê@\\x92@ØÞæÊ@Úò@ÚÒÜÈ\\x14\\x8eÒìÊ@ÚÊ@Â@æÒÎÜ\\x14\\x90Òè@ÚÊX@ÄÂÄòX@ÞÜÊ@ÚÞäÊ@èÒÚÊ\\x14\\x92@Úêæè@ÆÞÜÌÊææX@èÐÂè@Úò@ØÞÜÊØÒÜÊææ@Òæ@ÖÒØØÒÜÎ@ÚÊ@ÜÞî\\x14\\x88ÞÜNè@òÞê@ÖÜÞî@\\x92@æèÒØØ@ÄÊØÒÊìÊ\\x14¨ÐÂè@òÞê@îÒØØ@ÄÊ@ÐÊäÊ\\x14\\x82ÜÈ@ÎÒìÊ@ÚÊ@Â@æÒÎÜ\\x14\\x90Òè@ÚÊX@ÄÂÄòX@ÞÜÊ@ÚÞäÊ@èÒÚÊ'"
      ]
     },
     "execution_count": 9,
     "metadata": {},
     "output_type": "execute_result"
    }
   ],
   "source": [
    "''.join([chr(ord(c)*2) for c in text])"
   ]
  },
  {
   "cell_type": "code",
   "execution_count": 10,
   "metadata": {},
   "outputs": [
    {
     "data": {
      "text/plain": [
       "'📅📞💖📘📗📘📯💢💖📘📗📘📯💀📅📞💖📘📗📘📯💢💖📘📗📘📯💀📅📞💖📘📗📘📯💢💖📘📗📘📯💢💖📞📥📭💖📭📗📩💖💿💖📩📫📦📦📥📩📛📚💖📪📥💖📡📤📥📭💀📊📞📗📪💖📩📥📣📛📪📞📟📤📝💖📭📗📩📤💝📪💖📨📟📝📞📪💖📞📛📨📛💵💀📅📞💖📘📗📘📯💢💖📘📗📘📯💢💖💿💖📩📞📥📫📢📚📤💝📪💖📞📗📬📛💖📢📛📪💖📯📥📫💖📝📥💀💷📤📚💖📤📥📭💖📯📥📫💝📨📛💖📥📫📪💖📥📜💖📩📟📝📞📪💢💖📯📛📗📞💀📉📞📥📭💖📣📛💖📞📥📭💖📭📗📤📪💖📟📪💖📪📥💖📘📛💀📊📛📢📢💖📣📛💢💖📘📗📘📯💢💖💝📙📗📫📩📛💖💿💖📤📛📛📚💖📪📥💖📡📤📥📭💖📤📥📭💢💖📥📞💖📘📛📙📗📫📩📛💀📃📯💖📢📥📤📛📢📟📤📛📩📩💖📟📩💖📡📟📢📢📟📤📝💖📣📛💖💞📗📤📚💖💿💟💀💿💖📣📫📩📪💖📙📥📤📜📛📩📩💖💿💖📩📪📟📢📢💖📘📛📢📟📛📬📛💖💞📩📪📟📢📢💖📘📛📢📟📛📬📛💟💀📍📞📛📤💖💿💝📣💖📤📥📪💖📭📟📪📞💖📯📥📫💖💿💖📢📥📩📛💖📣📯💖📣📟📤📚💀💽📟📬📛💖📣📛💖📗💖📩📟📝📤💀💾📟📪💖📣📛💢💖📘📗📘📯💢💖📥📤📛💖📣📥📨📛💖📪📟📣📛💀📅📞💖📘📗📘📯💢💖📘📗📘📯💀📊📞📛💖📨📛📗📩📥📤💖💿💖📘📨📛📗📪📞📛💖📟📩💖📯📥📫💀💸📥📯💢💖📯📥📫💖📝📥📪💖📣📛💖📘📢📟📤📚📛📚💀📅📞💢💖📦📨📛📪📪📯💖📘📗📘📯💀📊📞📛📨📛💝📩💖📤📥📪📞📟📤📝💖📪📞📗📪💖💿💖📭📥📫📢📚📤💝📪💖📚📥💀💿📪💝📩💖📤📥📪💖📪📞📛💖📭📗📯💖💿💖📦📢📗📤📤📛📚💖📟📪💀📉📞📥📭💖📣📛💖📞📥📭💖📯📥📫💖📭📗📤📪💖📟📪💖📪📥💖📘📛💀📊📛📢📢💖📣📛💢💖📘📗📘📯💢💖💝📙📗📫📩📛💖💿💖📤📛📛📚💖📪📥💖📡📤📥📭💖📤📥📭💢💖📥📞💖📘📛📙📗📫📩📛💀📃📯💖📢📥📤📛📢📟📤📛📩📩💖📟📩💖📡📟📢📢📟📤📝💖📣📛💖💞📗📤📚💖💿💟💀💿💖📣📫📩📪💖📙📥📤📜📛📩📩💖💿💖📩📪📟📢📢💖📘📛📢📟📛📬📛💖💞📩📪📟📢📢💖📘📛📢📟📛📬📛💟💀📍📞📛📤💖💿💝📣💖📤📥📪💖📭📟📪📞💖📯📥📫💖💿💖📢📥📩📛💖📣📯💖📣📟📤📚💀💽📟📬📛💖📣📛💖📗💖📩📟📝📤💀💾📟📪💖📣📛💢💖📘📗📘📯💢💖📥📤📛💖📣📥📨📛💖📪📟📣📛💀📅📞💖📘📗📘📯💢💖📘📗📘📯💖💞📥📞💖📥📞💟💀📅📞💖📘📗📘📯💢💖📘📗📘📯💖💞📯📛📗📞💟💀📅📞💖📘📗📘📯💢💖📘📗📘📯💢💖📞📥📭💖📭📗📩💖💿💖📩📫📦📦📥📩📛📚💖📪📥💖📡📤📥📭💵💀📅📞💖📦📨📛📪📪📯💖📘📗📘📯💢💖💿💖📩📞📥📫📢📚📤💝📪💖📞📗📬📛💖📢📛📪💖📯📥📫💖📝📥💀💿💖📣📫📩📪💖📙📥📤📜📛📩📩💢💖📪📞📗📪💖📣📯💖📢📥📤📛📢📟📤📛📩📩💖📟📩💖📡📟📢📢📟📤📝💖📣📛💖📤📥📭💀💺📥📤💝📪💖📯📥📫💖📡📤📥📭💖💿💖📩📪📟📢📢💖📘📛📢📟📛📬📛💀📊📞📗📪💖📯📥📫💖📭📟📢📢💖📘📛💖📞📛📨📛💀💷📤📚💖📝📟📬📛💖📣📛💖📗💖📩📟📝📤💀💾📟📪💖📣📛💢💖📘📗📘📯💢💖📥📤📛💖📣📥📨📛💖📪📟📣📛💀📃📯💖📢📥📤📛📢📟📤📛📩📩💖📟📩💖📡📟📢📢📟📤📝💖📣📛💖💞📗📤📚💖💿💟💀💿💖📣📫📩📪💖📙📥📤📜📛📩📩💖💿💖📩📪📟📢📢💖📘📛📢📟📛📬📛💖💞📩📪📟📢📢💖📘📛📢📟📛📬📛💟💀📍📞📛📤💖💿💝📣💖📤📥📪💖📭📟📪📞💖📯📥📫💖💿💖📢📥📩📛💖📣📯💖📣📟📤📚💀💽📟📬📛💖📣📛💖📗💖📩📟📝📤💀💾📟📪💖📣📛💢💖📘📗📘📯💢💖📥📤📛💖📣📥📨📛💖📪📟📣📛💀💿💖📣📫📩📪💖📙📥📤📜📛📩📩💢💖📪📞📗📪💖📣📯💖📢📥📤📛📢📟📤📛📩📩💖📟📩💖📡📟📢📢📟📤📝💖📣📛💖📤📥📭💀💺📥📤💝📪💖📯📥📫💖📡📤📥📭💖💿💖📩📪📟📢📢💖📘📛📢📟📛📬📛💀📊📞📗📪💖📯📥📫💖📭📟📢📢💖📘📛💖📞📛📨📛💀💷📤📚💖📝📟📬📛💖📣📛💖📗💖📩📟📝📤💀💾📟📪💖📣📛💢💖📘📗📘📯💢💖📥📤📛💖📣📥📨📛💖📪📟📣📛'"
      ]
     },
     "execution_count": 10,
     "metadata": {},
     "output_type": "execute_result"
    }
   ],
   "source": [
    "''.join([chr(ord(c)+0x1F476) for c in text])"
   ]
  },
  {
   "cell_type": "code",
   "execution_count": 14,
   "metadata": {},
   "outputs": [],
   "source": [
    "baby = open(\"baby.txt\").read()"
   ]
  },
  {
   "cell_type": "code",
   "execution_count": 15,
   "metadata": {},
   "outputs": [
    {
     "name": "stdout",
     "output_type": "stream",
     "text": [
      "Ooh whoa, ooh whoa, ooh whoa\n",
      "You know you love me, I know you care\n",
      "Just shout whenever and I'll be there\n",
      "You are my love, you are my heart\n",
      "And we will never, ever, ever be apart\n",
      "Are we an item? Girl quit playin'\n",
      "We're just friends, what are you sayin'\n",
      "Said there's another, look right in my eyes\n",
      "My first love, broke my heart for the first time\n",
      "And I was like baby, baby, baby oh\n",
      "Like baby, baby, baby no\n",
      "Like baby, baby, baby oh\n",
      "I thought you'd always be mine (mine)\n",
      "Baby, baby, baby oh\n",
      "Like baby, baby, baby no\n",
      "Like baby, baby, baby ooh\n",
      "I thought you'd always be mine\n",
      "Oh for you, I would have done whatever\n",
      "And I just can't believe we ain't together\n",
      "And I wanna play it cool\n",
      "But I'm losin' you\n",
      "I'll buy you anything\n",
      "I'll buy you any ring\n",
      "And I'm in pieces, baby fix me\n",
      "And just shake me, 'til you wake me from this bad dream\n",
      "I'm goin' down, down, down, down\n",
      "And I can't just believe my first love won't be around\n",
      "And I'm like baby, baby, baby oh\n",
      "Like baby, baby, baby no\n",
      "Like baby, baby, baby oh\n",
      "I thought you'd always be mine (mine)\n",
      "Baby, baby, baby oh\n",
      "Like baby, baby, baby no\n",
      "Like baby, baby, baby ooh\n",
      "I thought you'd always be mine\n",
      "Luda, when I was thirteen, I had my first love\n",
      "There was nobody that compared to my baby\n",
      "And nobody came between us no one could ever come above\n",
      "She had me goin' crazy\n",
      "Oh, I was starstruck\n",
      "She woke me up daily\n",
      "Don't need no Starbucks\n",
      "She made my heart pound\n",
      "And skip a beat when I see her in the street and\n",
      "At school on the playground\n",
      "But I really wanna see her on the weekend\n",
      "She know she got me dazin'\n",
      "'Cause she was so amazin'\n",
      "And now my heart is breakin'\n",
      "But I just keep on sayin'\n",
      "Baby, baby, baby oh\n",
      "Like baby, baby, baby no\n",
      "Like baby, baby, baby oh\n",
      "I thought you'd always be mine (mine)\n",
      "Baby, baby, baby oh\n",
      "Like baby, baby, baby no\n",
      "Like baby, baby, baby ooh\n",
      "I thought you'd always be mine\n",
      "Now I'm gone\n",
      "Yeah, yeah, yeah\n",
      "Yeah, yeah, yeah (now I'm all gone)\n",
      "Yeah, yeah, yeah\n",
      "Yeah, yeah, yeah (now I'm all gone)\n",
      "Yeah, yeah, yeah\n",
      "Yeah, yeah, yeah (now I'm all gone)\n",
      "Gone, gone, gone, I'm gone\n"
     ]
    }
   ],
   "source": [
    "print(baby)"
   ]
  },
  {
   "cell_type": "code",
   "execution_count": 16,
   "metadata": {},
   "outputs": [
    {
     "data": {
      "text/plain": [
       "'📅📥📞💖📭📞📥📗💢💖📥📥📞💖📭📞📥📗💢💖📥📥📞💖📭📞📥📗💀📏📥📫💖📡📤📥📭💖📯📥📫💖📢📥📬📛💖📣📛💢💖💿💖📡📤📥📭💖📯📥📫💖📙📗📨📛💀📀📫📩📪💖📩📞📥📫📪💖📭📞📛📤📛📬📛📨💖📗📤📚💖💿💝📢📢💖📘📛💖📪📞📛📨📛💀📏📥📫💖📗📨📛💖📣📯💖📢📥📬📛💢💖📯📥📫💖📗📨📛💖📣📯💖📞📛📗📨📪💀💷📤📚💖📭📛💖📭📟📢📢💖📤📛📬📛📨💢💖📛📬📛📨💢💖📛📬📛📨💖📘📛💖📗📦📗📨📪💀💷📨📛💖📭📛💖📗📤💖📟📪📛📣💵💖💽📟📨📢💖📧📫📟📪💖📦📢📗📯📟📤💝💀📍📛💝📨📛💖📠📫📩📪💖📜📨📟📛📤📚📩💢💖📭📞📗📪💖📗📨📛💖📯📥📫💖📩📗📯📟📤💝💀📉📗📟📚💖📪📞📛📨📛💝📩💖📗📤📥📪📞📛📨💢💖📢📥📥📡💖📨📟📝📞📪💖📟📤💖📣📯💖📛📯📛📩💀📃📯💖📜📟📨📩📪💖📢📥📬📛💢💖📘📨📥📡📛💖📣📯💖📞📛📗📨📪💖📜📥📨💖📪📞📛💖📜📟📨📩📪💖📪📟📣📛💀💷📤📚💖💿💖📭📗📩💖📢📟📡📛💖📘📗📘📯💢💖📘📗📘📯💢💖📘📗📘📯💖📥📞💀📂📟📡📛💖📘📗📘📯💢💖📘📗📘📯💢💖📘📗📘📯💖📤📥💀📂📟📡📛💖📘📗📘📯💢💖📘📗📘📯💢💖📘📗📘📯💖📥📞💀💿💖📪📞📥📫📝📞📪💖📯📥📫💝📚💖📗📢📭📗📯📩💖📘📛💖📣📟📤📛💖💞📣📟📤📛💟💀💸📗📘📯💢💖📘📗📘📯💢💖📘📗📘📯💖📥📞💀📂📟📡📛💖📘📗📘📯💢💖📘📗📘📯💢💖📘📗📘📯💖📤📥💀📂📟📡📛💖📘📗📘📯💢💖📘📗📘📯💢💖📘📗📘📯💖📥📥📞💀💿💖📪📞📥📫📝📞📪💖📯📥📫💝📚💖📗📢📭📗📯📩💖📘📛💖📣📟📤📛💀📅📞💖📜📥📨💖📯📥📫💢💖💿💖📭📥📫📢📚💖📞📗📬📛💖📚📥📤📛💖📭📞📗📪📛📬📛📨💀💷📤📚💖💿💖📠📫📩📪💖📙📗📤💝📪💖📘📛📢📟📛📬📛💖📭📛💖📗📟📤💝📪💖📪📥📝📛📪📞📛📨💀💷📤📚💖💿💖📭📗📤📤📗💖📦📢📗📯💖📟📪💖📙📥📥📢💀💸📫📪💖💿💝📣💖📢📥📩📟📤💝💖📯📥📫💀💿💝📢📢💖📘📫📯💖📯📥📫💖📗📤📯📪📞📟📤📝💀💿💝📢📢💖📘📫📯💖📯📥📫💖📗📤📯💖📨📟📤📝💀💷📤📚💖💿💝📣💖📟📤💖📦📟📛📙📛📩💢💖📘📗📘📯💖📜📟📮💖📣📛💀💷📤📚💖📠📫📩📪💖📩📞📗📡📛💖📣📛💢💖💝📪📟📢💖📯📥📫💖📭📗📡📛💖📣📛💖📜📨📥📣💖📪📞📟📩💖📘📗📚💖📚📨📛📗📣💀💿💝📣💖📝📥📟📤💝💖📚📥📭📤💢💖📚📥📭📤💢💖📚📥📭📤💢💖📚📥📭📤💀💷📤📚💖💿💖📙📗📤💝📪💖📠📫📩📪💖📘📛📢📟📛📬📛💖📣📯💖📜📟📨📩📪💖📢📥📬📛💖📭📥📤💝📪💖📘📛💖📗📨📥📫📤📚💀💷📤📚💖💿💝📣💖📢📟📡📛💖📘📗📘📯💢💖📘📗📘📯💢💖📘📗📘📯💖📥📞💀📂📟📡📛💖📘📗📘📯💢💖📘📗📘📯💢💖📘📗📘📯💖📤📥💀📂📟📡📛💖📘📗📘📯💢💖📘📗📘📯💢💖📘📗📘📯💖📥📞💀💿💖📪📞📥📫📝📞📪💖📯📥📫💝📚💖📗📢📭📗📯📩💖📘📛💖📣📟📤📛💖💞📣📟📤📛💟💀💸📗📘📯💢💖📘📗📘📯💢💖📘📗📘📯💖📥📞💀📂📟📡📛💖📘📗📘📯💢💖📘📗📘📯💢💖📘📗📘📯💖📤📥💀📂📟📡📛💖📘📗📘📯💢💖📘📗📘📯💢💖📘📗📘📯💖📥📥📞💀💿💖📪📞📥📫📝📞📪💖📯📥📫💝📚💖📗📢📭📗📯📩💖📘📛💖📣📟📤📛💀📂📫📚📗💢💖📭📞📛📤💖💿💖📭📗📩💖📪📞📟📨📪📛📛📤💢💖💿💖📞📗📚💖📣📯💖📜📟📨📩📪💖📢📥📬📛💀📊📞📛📨📛💖📭📗📩💖📤📥📘📥📚📯💖📪📞📗📪💖📙📥📣📦📗📨📛📚💖📪📥💖📣📯💖📘📗📘📯💀💷📤📚💖📤📥📘📥📚📯💖📙📗📣📛💖📘📛📪📭📛📛📤💖📫📩💖📤📥💖📥📤📛💖📙📥📫📢📚💖📛📬📛📨💖📙📥📣📛💖📗📘📥📬📛💀📉📞📛💖📞📗📚💖📣📛💖📝📥📟📤💝💖📙📨📗📰📯💀📅📞💢💖💿💖📭📗📩💖📩📪📗📨📩📪📨📫📙📡💀📉📞📛💖📭📥📡📛💖📣📛💖📫📦💖📚📗📟📢📯💀💺📥📤💝📪💖📤📛📛📚💖📤📥💖📉📪📗📨📘📫📙📡📩💀📉📞📛💖📣📗📚📛💖📣📯💖📞📛📗📨📪💖📦📥📫📤📚💀💷📤📚💖📩📡📟📦💖📗💖📘📛📗📪💖📭📞📛📤💖💿💖📩📛📛💖📞📛📨💖📟📤💖📪📞📛💖📩📪📨📛📛📪💖📗📤📚💀💷📪💖📩📙📞📥📥📢💖📥📤💖📪📞📛💖📦📢📗📯📝📨📥📫📤📚💀💸📫📪💖💿💖📨📛📗📢📢📯💖📭📗📤📤📗💖📩📛📛💖📞📛📨💖📥📤💖📪📞📛💖📭📛📛📡📛📤📚💀📉📞📛💖📡📤📥📭💖📩📞📛💖📝📥📪💖📣📛💖📚📗📰📟📤💝💀💝💹📗📫📩📛💖📩📞📛💖📭📗📩💖📩📥💖📗📣📗📰📟📤💝💀💷📤📚💖📤📥📭💖📣📯💖📞📛📗📨📪💖📟📩💖📘📨📛📗📡📟📤💝💀💸📫📪💖💿💖📠📫📩📪💖📡📛📛📦💖📥📤💖📩📗📯📟📤💝💀💸📗📘📯💢💖📘📗📘📯💢💖📘📗📘📯💖📥📞💀📂📟📡📛💖📘📗📘📯💢💖📘📗📘📯💢💖📘📗📘📯💖📤📥💀📂📟📡📛💖📘📗📘📯💢💖📘📗📘📯💢💖📘📗📘📯💖📥📞💀💿💖📪📞📥📫📝📞📪💖📯📥📫💝📚💖📗📢📭📗📯📩💖📘📛💖📣📟📤📛💖💞📣📟📤📛💟💀💸📗📘📯💢💖📘📗📘📯💢💖📘📗📘📯💖📥📞💀📂📟📡📛💖📘📗📘📯💢💖📘📗📘📯💢💖📘📗📘📯💖📤📥💀📂📟📡📛💖📘📗📘📯💢💖📘📗📘📯💢💖📘📗📘📯💖📥📥📞💀💿💖📪📞📥📫📝📞📪💖📯📥📫💝📚💖📗📢📭📗📯📩💖📘📛💖📣📟📤📛💀📄📥📭💖💿💝📣💖📝📥📤📛💀📏📛📗📞💢💖📯📛📗📞💢💖📯📛📗📞💀📏📛📗📞💢💖📯📛📗📞💢💖📯📛📗📞💖💞📤📥📭💖💿💝📣💖📗📢📢💖📝📥📤📛💟💀📏📛📗📞💢💖📯📛📗📞💢💖📯📛📗📞💀📏📛📗📞💢💖📯📛📗📞💢💖📯📛📗📞💖💞📤📥📭💖💿💝📣💖📗📢📢💖📝📥📤📛💟💀📏📛📗📞💢💖📯📛📗📞💢💖📯📛📗📞💀📏📛📗📞💢💖📯📛📗📞💢💖📯📛📗📞💖💞📤📥📭💖💿💝📣💖📗📢📢💖📝📥📤📛💟💀💽📥📤📛💢💖📝📥📤📛💢💖📝📥📤📛💢💖💿💝📣💖📝📥📤📛'"
      ]
     },
     "execution_count": 16,
     "metadata": {},
     "output_type": "execute_result"
    }
   ],
   "source": [
    "''.join([chr(ord(c)+0x1F476) for c in baby])"
   ]
  },
  {
   "cell_type": "code",
   "execution_count": 17,
   "metadata": {},
   "outputs": [],
   "source": [
    "always = open(\"always be my baby.txt\").read()"
   ]
  },
  {
   "cell_type": "code",
   "execution_count": 18,
   "metadata": {},
   "outputs": [
    {
     "data": {
      "text/plain": [
       "'📍📛💖📭📛📨📛💖📗📩💖📥📤📛💖📘📗📘📛💀💼📥📨💖📗💖📣📥📣📛📤📪💖📟📤💖📪📟📣📛💀💷📤📚💖📟📪💖📩📛📛📣📛📚💖📛📬📛📨📢📗📩📪📟📤📝💀📊📞📗📪💖📯📥📫💖📭📥📫📢📚💖📗📢📭📗📯📩💖📘📛💖📣📟📤📛💀📄📥📭💖📯📥📫💖📭📗📤📤📗💖📘📛💖📜📨📛📛💀📉📥💖💿💝📣💖📢📛📪📪📟📤📝💖📯📥📫💖📜📢📯💀💝💹📗📫📩📛💖💿💖📡📤📥📭💖📟📤💖📣📯💖📞📛📗📨📪💖📘📗📘📛💀📅📫📨💖📢📥📬📛💖📭📟📢📢💖📤📛📬📛📨💖📚📟📛💢💖📤📥💀📏📥📫💝📢📢💖📗📢📭📗📯📩💖📘📛💖📗💖📦📗📨📪💖📥📜💖📣📛💀💿💝📣💖📦📗📨📪💖📥📜💖📯📥📫💖📟📤📚📛📜📟📤📟📪📛📢📯💀💸📥📯💖📚📥📤💝📪💖📯📥📫💖📡📤📥📭💖📯📥📫💖📙📗📤💝📪💖📛📩📙📗📦📛💖📣📛💵💀📅📥📞💖📚📗📨📢📟📤📝💖💝📙📗📫📩📛💖📯📥📫💝📢📢💖📗📢📭📗📯📩💖📘📛💖📣📯💖📘📗📘📯💀💷📤📚💖📭📛💝📢📢💖📢📟📤📝📛📨💖📥📤💀📊📟📣📛💖📙📗📤💝📪💖📛📨📗📩📛💖📗💖📜📛📛📢📟📤📝💖📪📞📟📩💖📩📪📨📥📤📝💀📄📥💖📭📗📯💖📯📥📫💝📨📛💖📤📛📬📛📨💖📝📥📤📤📗💖📩📞📗📡📛💖📣📛💀📅📥📞💖📚📗📨📢📟📤📝💖💝📙📗📫📩📛💖📯📥📫💝📢📢💖📗📢📭📗📯📩💖📘📛💖📣📯💖📘📗📘📯💀💿💖📗📟📤💝📪💖📝📥📤📤📗💖📙📨📯💖📤📥💀💷📤📚💖💿💖📭📥📤💝📪💖📘📛📝💖📯📥📫💖📪📥💖📩📪📗📯💀💿📜💖📯📥📫💝📨📛💖📚📛📪📛📨📣📟📤📛📚💖📪📥💖📢📛📗📬📛💖📘📥📯💀💿💖📭📟📢📢💖📤📥📪💖📩📪📗📤📚💖📟📤💖📯📥📫📨💖📭📗📯💀💸📫📪💖📟📤📛📬📟📪📗📘📢📯💀📏📥📫💝📢📢💖📘📛💖📘📗📙📡💖📗📝📗📟📤💀💝💹📗📫📩📛💖📯📥📫💖📡📤📥📭💖📟📤💖📯📥📫📨💖📞📛📗📨📪💖📘📗📘📛💀📅📫📨💖📢📥📬📛💖📭📟📢📢💖📤📛📬📛📨💖📛📤📚💢💖📤📥💀📏📥📫💝📢📢💖📗📢📭📗📯📩💖📘📛💖📗💖📦📗📨📪💖📥📜💖📣📛💀💿💝📣💖📦📗📨📪💖📥📜💖📯📥📫💖📟📤📚📛📜📟📤📟📪📛📢📯💀💸📥📯💖📚📥📤💝📪💖📯📥📫💖📡📤📥📭💖📯📥📫💖📙📗📤💝📪💖📛📩📙📗📦📛💖📣📛💀📅📥📞💖📚📗📨📢📟📤📝💖💝📙📗📫📩📛💖📯📥📫💝📢📢💖📗📢📭📗📯📩💖📘📛💖📣📯💖📘📗📘📯💀💷📤📚💖📭📛💝📢📢💖📢📟📤📝📛📨💖📥📤💀📊📟📣📛💖📙📗📤💝📪💖📛📨📗📩📛💖📗💖📜📛📛📢📟📤📝💖📪📞📟📩💖📩📪📨📥📤📝💀📄📥💖📭📗📯💖📯📥📫💝📨📛💖📤📛📬📛📨💖📝📥📤📤📗💖📩📞📗📡📛💖📣📛💀📅📥📞💖📚📗📨📢📟📤📝💖💝📙📗📫📩📛💖📯📥📫💝📢📢💖📗📢📭📗📯📩💖📘📛💖📣📯💖📘📗📘📯💀💿💖📡📤📥📭💖📪📞📗📪💖📯📥📫💝📢📢💖📘📛💖📘📗📙📡💖📘📥📯💀📍📞📛📤💖📯📥📫📨💖📚📗📯📩💖📗📤📚💖📯📥📫📨💖📤📟📝📞📪📩💖📝📛📪💖📗💖📢📟📪📪📢📛💖📘📟📪💖📙📥📢📚📛📨💀💿💖📡📤📥📭💖📪📞📗📪💖📯📥📫💝📢📢💖📘📛💖📨📟📝📞📪💖📘📗📙📡💖📘📗📘📯💀📅📞💖📘📗📘📯💖📘📛📢📟📛📬📛💖📣📛💖📟📪💝📩💖📥📤📢📯💖📗💖📣📗📪📪📛📨💖📥📜💖📪📟📣📛💢💖📪📟📣📛💀📏📥📫💝📢📢💖📗📢📭📗📯📩💖📘📛💖📗💖📦📗📨📪💖📥📜💖📣📛💀💿💝📣💖📦📗📨📪💖📥📜💖📯📥📫💖📟📤📚📛📜📟📤📟📪📛📢📯💀💸📥📯💖📚📥📤💝📪💖📯📥📫💖📡📤📥📭💖📯📥📫💖📙📗📤💝📪💖📛📩📙📗📦📛💖📣📛💀📅📥📞💖📚📗📨📢📟📤📝💖💝📙📗📫📩📛💖📯📥📫💝📢📢💖📗📢📭📗📯📩💖📘📛💖📣📯💖📘📗📘📯💀💷📤📚💖📭📛💝📢📢💖📢📟📤📝📛📨💖📥📤💀📊📟📣📛💖📙📗📤💝📪💖📛📨📗📩📛💖📗💖📜📛📛📢📟📤📝💖📪📞📟📩💖📩📪📨📥📤📝💀📄📥💖📭📗📯💖📯📥📫💝📨📛💖📤📛📬📛📨💖📝📥📤📤📗💖📩📞📗📡📛💖📣📛💀📅📥📞💖📚📗📨📢📟📤📝💖💝📙📗📫📩📛💖📯📥📫💝📢📢💖📗📢📭📗📯📩💖📘📛💖📣📯💖📘📗📘📯💀📏📥📫💝📢📢💖📗📢📭📗📯📩💖📘📛💖📗💖📦📗📨📪💖📥📜💖📣📛💀💿💝📣💖📦📗📨📪💖📥📜💖📯📥📫💖📟📤📚📛📜📟📤📟📪📛📢📯💀💸📥📯💖📚📥📤💝📪💖📯📥📫💖📡📤📥📭💖📯📥📫💖📙📗📤💝📪💖📛📩📙📗📦📛💖📣📛💀📅📥📞💖📚📗📨📢📟📤📝💖💝📙📗📫📩📛💖📯📥📫💝📢📢💖📗📢📭📗📯📩💖📘📛💖📣📯💖📘📗📘📯💀💷📤📚💖📭📛💝📢📢💖📢📟📤📝📛📨💖📥📤💀📊📟📣📛💖📙📗📤💝📪💖📛📨📗📩📛💖📗💖📜📛📛📢📟📤📝💖📪📞📟📩💖📩📪📨📥📤📝💀📄📥💖📭📗📯💖📯📥📫💝📨📛💖📤📛📬📛📨💖📝📥📤📤📗💖📩📞📗📡📛💖📣📛💀📅📥📞💖📚📗📨📢📟📤📝💖💝📙📗📫📩📛💖📯📥📫💝📢📢💖📗📢📭📗📯📩💖📘📛💖📣📯💖📘📗📘📯💀📏📥📫💖📗📤📚💖💿💖📭📟📢📢💖📗📢📭📗📯📩💖📘📛💀📄📥💖📭📗📯💖📯📥📫💝📨📛💖📤📛📬📛📨💖📝📥📤📤📗💖📩📞📗📡📛💖📣📛💀📄📥💖📭📗📯💖📯📥📫💝📨📛💖📤📛📬📛📨💖📝📥📤📤📗💖📩📞📗📡📛💖📣📛💀📏📥📫💖📗📤📚💖💿💖📭📟📢📢💖📗📢📭📗📯📩💖📘📛'"
      ]
     },
     "execution_count": 18,
     "metadata": {},
     "output_type": "execute_result"
    }
   ],
   "source": [
    "''.join([chr(ord(c)+0x1F476) for c in always])"
   ]
  },
  {
   "cell_type": "code",
   "execution_count": null,
   "metadata": {},
   "outputs": [],
   "source": []
  }
 ],
 "metadata": {
  "kernelspec": {
   "display_name": "Python 3",
   "language": "python",
   "name": "python3"
  },
  "language_info": {
   "codemirror_mode": {
    "name": "ipython",
    "version": 3
   },
   "file_extension": ".py",
   "mimetype": "text/x-python",
   "name": "python",
   "nbconvert_exporter": "python",
   "pygments_lexer": "ipython3",
   "version": "3.7.4"
  }
 },
 "nbformat": 4,
 "nbformat_minor": 2
}
